{
 "cells": [
  {
   "cell_type": "code",
   "execution_count": 278,
   "id": "83cb37b5",
   "metadata": {},
   "outputs": [],
   "source": [
    "import requests\n",
    "from selenium import webdriver\n",
    "from selenium.webdriver.common.keys import Keys\n",
    "from selenium.webdriver.common.by import By\n",
    "from selenium.webdriver.support.ui import WebDriverWait as WDW\n",
    "from selenium.webdriver.support import expected_conditions as EC\n",
    "from bs4 import BeautifulSoup as BS\n",
    "from time import sleep\n",
    "\n",
    "driver = webdriver.Chrome('chromedriver')\n",
    "url = 'https://map.kakao.com/'\n",
    "driver.get(url)\n",
    "\n",
    "# search = driver.find_element(By.XPATH, '//*[@id=\"search.keyword.query\"]')"
   ]
  },
  {
   "cell_type": "code",
   "execution_count": 266,
   "id": "86bcf705",
   "metadata": {},
   "outputs": [],
   "source": [
    "all_names = []\n",
    "all_addresses = []\n",
    "all_phones = []\n",
    "pages = ['//*[@id=\"info.search.page.no2\"]','//*[@id=\"info.search.page.no3\"]','//*[@id=\"info.search.page.no4\"]','//*[@id=\"info.search.page.no5\"]','//*[@id=\"info.search.page.next\"]']"
   ]
  },
  {
   "cell_type": "code",
   "execution_count": 267,
   "id": "303c327f",
   "metadata": {},
   "outputs": [
    {
     "name": "stdout",
     "output_type": "stream",
     "text": [
      "282 0 //*[@id=\"info.search.page.no2\"]\n",
      "282 15 //*[@id=\"info.search.page.no3\"]\n",
      "282 30 //*[@id=\"info.search.page.no4\"]\n",
      "282 45 //*[@id=\"info.search.page.no5\"]\n",
      "282 60 //*[@id=\"info.search.page.next\"]\n",
      "282 75 //*[@id=\"info.search.page.no2\"]\n",
      "282 90 //*[@id=\"info.search.page.no3\"]\n",
      "282 105 //*[@id=\"info.search.page.no4\"]\n",
      "282 120 //*[@id=\"info.search.page.no5\"]\n",
      "282 135 //*[@id=\"info.search.page.next\"]\n",
      "282 150 //*[@id=\"info.search.page.no2\"]\n",
      "282 165 //*[@id=\"info.search.page.no3\"]\n",
      "282 180 //*[@id=\"info.search.page.no4\"]\n",
      "282 195 //*[@id=\"info.search.page.no5\"]\n",
      "282 210 //*[@id=\"info.search.page.next\"]\n",
      "282 225 //*[@id=\"info.search.page.no2\"]\n",
      "282 240 //*[@id=\"info.search.page.no3\"]\n",
      "282 255 //*[@id=\"info.search.page.no4\"]\n",
      "282 270 //*[@id=\"info.search.page.no5\"]\n",
      "88 0 //*[@id=\"info.search.page.no2\"]\n",
      "88 15 //*[@id=\"info.search.page.no3\"]\n",
      "88 30 //*[@id=\"info.search.page.no4\"]\n",
      "88 45 //*[@id=\"info.search.page.no5\"]\n",
      "88 60 //*[@id=\"info.search.page.next\"]\n",
      "88 75 //*[@id=\"info.search.page.no2\"]\n",
      "92 0 //*[@id=\"info.search.page.no2\"]\n",
      "92 15 //*[@id=\"info.search.page.no3\"]\n",
      "92 30 //*[@id=\"info.search.page.no4\"]\n",
      "92 45 //*[@id=\"info.search.page.no5\"]\n",
      "92 60 //*[@id=\"info.search.page.next\"]\n",
      "92 75 //*[@id=\"info.search.page.no2\"]\n",
      "92 90 //*[@id=\"info.search.page.no3\"]\n",
      "91 0 //*[@id=\"info.search.page.no2\"]\n",
      "91 15 //*[@id=\"info.search.page.no3\"]\n",
      "91 30 //*[@id=\"info.search.page.no4\"]\n",
      "91 45 //*[@id=\"info.search.page.no5\"]\n",
      "91 60 //*[@id=\"info.search.page.next\"]\n",
      "91 75 //*[@id=\"info.search.page.no2\"]\n",
      "91 90 //*[@id=\"info.search.page.no3\"]\n",
      "57 0 //*[@id=\"info.search.page.no2\"]\n",
      "57 15 //*[@id=\"info.search.page.no3\"]\n",
      "57 30 //*[@id=\"info.search.page.no4\"]\n",
      "57 45 //*[@id=\"info.search.page.no5\"]\n",
      "62 0 //*[@id=\"info.search.page.no2\"]\n",
      "62 15 //*[@id=\"info.search.page.no3\"]\n",
      "62 30 //*[@id=\"info.search.page.no4\"]\n",
      "62 45 //*[@id=\"info.search.page.no5\"]\n",
      "62 60 //*[@id=\"info.search.page.next\"]\n",
      "36 0 //*[@id=\"info.search.page.no2\"]\n",
      "36 15 //*[@id=\"info.search.page.no3\"]\n",
      "36 30 //*[@id=\"info.search.page.no4\"]\n",
      "36 0 //*[@id=\"info.search.page.no2\"]\n",
      "36 15 //*[@id=\"info.search.page.no3\"]\n",
      "36 30 //*[@id=\"info.search.page.no4\"]\n",
      "343 0 //*[@id=\"info.search.page.no2\"]\n",
      "343 15 //*[@id=\"info.search.page.no3\"]\n",
      "343 30 //*[@id=\"info.search.page.no4\"]\n",
      "343 45 //*[@id=\"info.search.page.no5\"]\n",
      "343 60 //*[@id=\"info.search.page.next\"]\n",
      "343 75 //*[@id=\"info.search.page.no2\"]\n",
      "343 90 //*[@id=\"info.search.page.no3\"]\n",
      "343 105 //*[@id=\"info.search.page.no4\"]\n",
      "343 120 //*[@id=\"info.search.page.no5\"]\n",
      "343 135 //*[@id=\"info.search.page.next\"]\n",
      "343 150 //*[@id=\"info.search.page.no2\"]\n",
      "343 165 //*[@id=\"info.search.page.no3\"]\n",
      "343 180 //*[@id=\"info.search.page.no4\"]\n",
      "343 195 //*[@id=\"info.search.page.no5\"]\n",
      "343 210 //*[@id=\"info.search.page.next\"]\n",
      "343 225 //*[@id=\"info.search.page.no2\"]\n",
      "343 240 //*[@id=\"info.search.page.no3\"]\n",
      "343 255 //*[@id=\"info.search.page.no4\"]\n",
      "343 270 //*[@id=\"info.search.page.no5\"]\n",
      "343 285 //*[@id=\"info.search.page.next\"]\n",
      "343 300 //*[@id=\"info.search.page.no2\"]\n",
      "343 315 //*[@id=\"info.search.page.no3\"]\n",
      "343 330 //*[@id=\"info.search.page.no4\"]\n",
      "13 0 //*[@id=\"info.search.page.no2\"]\n",
      "41 0 //*[@id=\"info.search.page.no2\"]\n",
      "41 15 //*[@id=\"info.search.page.no3\"]\n",
      "41 30 //*[@id=\"info.search.page.no4\"]\n",
      "63 0 //*[@id=\"info.search.page.no2\"]\n",
      "63 15 //*[@id=\"info.search.page.no3\"]\n",
      "63 30 //*[@id=\"info.search.page.no4\"]\n",
      "63 45 //*[@id=\"info.search.page.no5\"]\n",
      "63 60 //*[@id=\"info.search.page.next\"]\n",
      "51 0 //*[@id=\"info.search.page.no2\"]\n",
      "51 15 //*[@id=\"info.search.page.no3\"]\n",
      "51 30 //*[@id=\"info.search.page.no4\"]\n",
      "51 45 //*[@id=\"info.search.page.no5\"]\n",
      "26 0 //*[@id=\"info.search.page.no2\"]\n",
      "26 15 //*[@id=\"info.search.page.no3\"]\n",
      "31 0 //*[@id=\"info.search.page.no2\"]\n",
      "31 15 //*[@id=\"info.search.page.no3\"]\n",
      "31 30 //*[@id=\"info.search.page.no4\"]\n",
      "79 0 //*[@id=\"info.search.page.no2\"]\n",
      "79 15 //*[@id=\"info.search.page.no3\"]\n",
      "79 30 //*[@id=\"info.search.page.no4\"]\n",
      "79 45 //*[@id=\"info.search.page.no5\"]\n",
      "79 60 //*[@id=\"info.search.page.next\"]\n",
      "79 75 //*[@id=\"info.search.page.no2\"]\n",
      "16 0 //*[@id=\"info.search.page.no2\"]\n",
      "16 15 //*[@id=\"info.search.page.no3\"]\n"
     ]
    }
   ],
   "source": [
    "for region in ['서울특별시', '부산광역시', '대구광역시', '인천광역시', '광주광역시', '대전광역시', '울산광역시', '세종특별자치시', '경기도', '강원도', '충청북도', '충청남도', '전라북도', '전라남도', '경상북도', '경상남도', '제주도']:\n",
    "    search.clear()\n",
    "    search.send_keys(f\"{region} 배달대행\")\n",
    "    WDW(driver, 60).until(EC.presence_of_element_located((By.XPATH, '//*[@id=\"search.keyword.submit\"]')))\n",
    "    driver.find_element(By.XPATH, '//*[@id=\"search.keyword.submit\"]').send_keys(Keys.ENTER)\n",
    "\n",
    "    names = []\n",
    "    addresses = []\n",
    "    phones = []\n",
    "\n",
    "    \n",
    "    # 시작 페이지 세팅\n",
    "    next_page = driver.find_element(By.XPATH, '//*[@id=\"info.search.place.more\"]')\n",
    "    driver.execute_script(\"arguments[0].click()\", next_page)\n",
    "    sleep(0.5)\n",
    "    next_page = driver.find_element(By.XPATH, '//*[@id=\"info.search.page.no1\"]')\n",
    "    driver.execute_script(\"arguments[0].click()\", next_page)\n",
    "    \n",
    "    \n",
    "    html = driver.page_source\n",
    "    soup = BS(html, 'html.parser')\n",
    "    cnt = int(max([cnt.get_text() for cnt in soup.find_all('em', class_='cnt')])) # 해당 지역의 업체 수\n",
    "    \n",
    "    flag = True\n",
    "    \n",
    "    while flag:\n",
    "        for page_num in pages:\n",
    "            print(cnt, len(names), page_num)\n",
    "            # 데이터 크롤링\n",
    "            html = driver.page_source\n",
    "            soup = BS(html, 'html.parser')\n",
    "            names.extend([name.get_text() for name in soup.find_all('a', class_='link_name')])\n",
    "            addresses.extend([address.get_text().replace('\\n', '') for address in soup.find_all('div', class_=\"addr\")])\n",
    "            phones.extend([phone.get_text() for phone in soup.find_all('span', class_='phone')])\n",
    "\n",
    "            \n",
    "            next_page = driver.find_element(By.XPATH, page_num)\n",
    "            # 다음 페이지로 이동\n",
    "            if len(names) >= cnt:\n",
    "                all_names.extend(names)\n",
    "                all_addresses.extend(addresses)\n",
    "                all_phones.extend(phones)\n",
    "                flag = False\n",
    "                break\n",
    "            \n",
    "            driver.execute_script(\"arguments[0].click()\", next_page)\n"
   ]
  },
  {
   "cell_type": "code",
   "execution_count": 268,
   "id": "eecddf7d",
   "metadata": {},
   "outputs": [
    {
     "name": "stdout",
     "output_type": "stream",
     "text": [
      "1543\n",
      "30\n"
     ]
    }
   ],
   "source": [
    "print(len(all_names))\n",
    "print(len(addresses))"
   ]
  },
  {
   "cell_type": "code",
   "execution_count": 270,
   "id": "64ba128f",
   "metadata": {},
   "outputs": [],
   "source": [
    "import pandas as pd"
   ]
  },
  {
   "cell_type": "code",
   "execution_count": 271,
   "id": "ca3d7e35",
   "metadata": {},
   "outputs": [],
   "source": [
    "riders = {\n",
    "    '상호명': all_names,\n",
    "    '주소': all_addresses,\n",
    "    '전화번호': all_phones\n",
    "}"
   ]
  },
  {
   "cell_type": "code",
   "execution_count": 272,
   "id": "c7f5552c",
   "metadata": {},
   "outputs": [],
   "source": [
    "df = pd.DataFrame(riders)"
   ]
  },
  {
   "cell_type": "code",
   "execution_count": 276,
   "id": "4d645336",
   "metadata": {},
   "outputs": [],
   "source": [
    "df.to_excel(excel_writer='배달대행업체.xlsx')"
   ]
  },
  {
   "cell_type": "markdown",
   "id": "6e72c43f",
   "metadata": {},
   "source": [
    "# 여기부터는 네이버"
   ]
  },
  {
   "cell_type": "code",
   "execution_count": 331,
   "id": "f93b9b44",
   "metadata": {},
   "outputs": [],
   "source": [
    "import requests\n",
    "from selenium import webdriver\n",
    "from selenium.webdriver.common.keys import Keys\n",
    "from selenium.webdriver.common.by import By\n",
    "from selenium.webdriver.support.ui import WebDriverWait as WDW\n",
    "from selenium.webdriver.support import expected_conditions as EC\n",
    "from bs4 import BeautifulSoup as BS\n",
    "from time import sleep\n",
    "\n",
    "driver = webdriver.Chrome('chromedriver')\n",
    "url = 'https://map.naver.com/'\n",
    "driver.get(url)\n",
    "\n",
    "sleep(5)"
   ]
  },
  {
   "cell_type": "code",
   "execution_count": 332,
   "id": "c2b5da3a",
   "metadata": {},
   "outputs": [],
   "source": [
    "WDW(driver, 60).until(EC.presence_of_element_located((By.CSS_SELECTOR, 'div.input_box>input.input_search')))\n",
    "search = driver.find_element(By.CSS_SELECTOR, 'div.input_box>input.input_search')\n",
    "\n",
    "all_names = []\n",
    "all_addresses = []\n",
    "all_phones = []"
   ]
  },
  {
   "cell_type": "code",
   "execution_count": 378,
   "id": "e16a5d88",
   "metadata": {},
   "outputs": [],
   "source": [
    "search.clear()\n",
    "search.send_keys(f'서울 배달대행')\n",
    "search.send_keys(Keys.ENTER)"
   ]
  },
  {
   "cell_type": "code",
   "execution_count": 395,
   "id": "65068f0e",
   "metadata": {},
   "outputs": [],
   "source": [
    "driver.switch_to.frame(\"searchIframe\")\n",
    "driver.find_element(By.CSS_SELECTOR, \"body\").send_keys(Keys.END)\n",
    "html = driver.page_source\n",
    "soup = BS(html, 'html.parser')\n",
    "names = [name.get_text() for name in soup.find_all('span', class_='place_bluelink')]\n",
    "address = [name.get_text() for name in soup.find_all('span', class_='hClKF')]\n",
    "riders = driver.find_elements(By.CSS_SELECTOR, \"a.P7gyV\")\n"
   ]
  },
  {
   "cell_type": "code",
   "execution_count": 387,
   "id": "6a967353",
   "metadata": {},
   "outputs": [],
   "source": [
    "riders[3].click()"
   ]
  },
  {
   "cell_type": "code",
   "execution_count": 394,
   "id": "821a711b",
   "metadata": {},
   "outputs": [],
   "source": [
    "driver.switch_to.default_content()"
   ]
  },
  {
   "cell_type": "code",
   "execution_count": 388,
   "id": "8c61d36c",
   "metadata": {},
   "outputs": [],
   "source": [
    "driver.switch_to.default_content()\n",
    "driver.switch_to.frame(\"searchIframe\")\n",
    "driver.find_element(By.CSS_SELECTOR, \"body\").send_keys(Keys.END)\n",
    "html = driver.page_source\n",
    "soup = BS(html, 'html.parser')"
   ]
  },
  {
   "cell_type": "code",
   "execution_count": 396,
   "id": "6595b136",
   "metadata": {},
   "outputs": [
    {
     "data": {
      "text/plain": [
       "['바로고 24시간배달대행',\n",
       " '베스트프렌드',\n",
       " '딜리버리앤',\n",
       " '바로고 신도림구로지사',\n",
       " '바로고 본사',\n",
       " '냠냠박스 본사',\n",
       " '생각대로 송파지사',\n",
       " '바로고 영등포총판',\n",
       " '두바퀴컴퍼니',\n",
       " '딜리온 행당지사',\n",
       " '만나플러스',\n",
       " '바로고 에이스 면목',\n",
       " '국민배달',\n",
       " '디플러스',\n",
       " '스파이더 크래프트',\n",
       " '제트콜',\n",
       " '바로고 공덕지사',\n",
       " '배달의전설',\n",
       " '최강배달',\n",
       " '부릉 강서점',\n",
       " '생각대로 서초3지부',\n",
       " '생각대로 강동지사',\n",
       " '배달의민족 서울가입센터',\n",
       " '배달의민족가입',\n",
       " '생각대로 슈퍼맨배달대행',\n",
       " '비욘드딜리버리',\n",
       " '좋은친구들',\n",
       " '딜리온',\n",
       " '배달의전설',\n",
       " '퍼스트콜',\n",
       " '제트콜 중계점',\n",
       " '생각대로TDS',\n",
       " '바로고',\n",
       " '맛나플러스 정릉점',\n",
       " '바로고 디엠씨가좌지사',\n",
       " 'VIP 구로지사',\n",
       " '디플러스 배달대행',\n",
       " '만나플러스 마포신촌센터',\n",
       " '바로고 송파넥서스',\n",
       " '영웅배송스파이더',\n",
       " '제트콜',\n",
       " '국민라이더스 논현지사',\n",
       " '만나플러스 구산점',\n",
       " '생각대로 신길지사',\n",
       " '이츠특공대',\n",
       " '바로고',\n",
       " '생각대로 동선지사',\n",
       " '비현 배달대행',\n",
       " '배달대행 예스런',\n",
       " '바로고 금천점',\n",
       " '바로고 마곡지사',\n",
       " '배달의전설',\n",
       " '바로고 홍대지사',\n",
       " '로드파일럿']"
      ]
     },
     "execution_count": 396,
     "metadata": {},
     "output_type": "execute_result"
    }
   ],
   "source": [
    "names"
   ]
  },
  {
   "cell_type": "code",
   "execution_count": 408,
   "id": "5442bab8",
   "metadata": {},
   "outputs": [],
   "source": [
    "js_script = \"document.querySelector(\\\"body > app > layout > div > div.container > div.router-output > shrinkable-layout > search-layout > search-list > search-list-contents > perfect-scrollbar\\\")\"\n",
    "raw = driver.execute_script(\"return \" + js_script)"
   ]
  },
  {
   "cell_type": "code",
   "execution_count": 416,
   "id": "ede25bc2",
   "metadata": {},
   "outputs": [
    {
     "name": "stdout",
     "output_type": "stream",
     "text": [
      "None\n"
     ]
    },
    {
     "ename": "AttributeError",
     "evalue": "'NoneType' object has no attribute 'group'",
     "output_type": "error",
     "traceback": [
      "\u001b[0;31m---------------------------------------------------------------------------\u001b[0m",
      "\u001b[0;31mAttributeError\u001b[0m                            Traceback (most recent call last)",
      "Input \u001b[0;32mIn [416]\u001b[0m, in \u001b[0;36m<cell line: 10>\u001b[0;34m()\u001b[0m\n\u001b[1;32m      7\u001b[0m matched \u001b[38;5;241m=\u001b[39m re\u001b[38;5;241m.\u001b[39msearch(\u001b[38;5;124mr\u001b[39m\u001b[38;5;124m'\u001b[39m\u001b[38;5;124mvar sl_courses=(.+?);\u001b[39m\u001b[38;5;124m'\u001b[39m, page_source)\n\u001b[1;32m      9\u001b[0m \u001b[38;5;28mprint\u001b[39m(matched)\n\u001b[0;32m---> 10\u001b[0m json_string \u001b[38;5;241m=\u001b[39m \u001b[43mmatched\u001b[49m\u001b[38;5;241;43m.\u001b[39;49m\u001b[43mgroup\u001b[49m(\u001b[38;5;241m1\u001b[39m)\n\u001b[1;32m     11\u001b[0m course_list \u001b[38;5;241m=\u001b[39m json\u001b[38;5;241m.\u001b[39mloads(json_string)\n",
      "\u001b[0;31mAttributeError\u001b[0m: 'NoneType' object has no attribute 'group'"
     ]
    }
   ],
   "source": [
    "import re\n",
    "import requests\n",
    "import json\n",
    "\n",
    "lv3_url = 'https://map.naver.com/v5/search/%EC%84%9C%EC%9A%B8%20%EB%B0%B0%EB%8B%AC%EB%8C%80%ED%96%89/place/1696264446?c=14117013.8868877,4513767.1326918,9.99,0,0,0,dh&placePath=%3Fentry%253Dbmp'\n",
    "page_source = requests.get(lv3_url).text\n",
    "matched = re.search(r'var sl_courses=(.+?);', page_source)\n",
    "\n",
    "print(matched)\n",
    "json_string = matched.group(1)\n",
    "course_list = json.loads(json_string)"
   ]
  },
  {
   "cell_type": "code",
   "execution_count": 377,
   "id": "e22b84c7",
   "metadata": {},
   "outputs": [],
   "source": [
    "driver.switch_to.default_content()\n",
    "driver.switch_to.frame(\"searchIframe\")\n",
    "html = driver.page_source\n",
    "soup = BS(html, 'html.parser')\n",
    "soup.find('span', class_='dry01')\n",
    "driver.switch_to.default_content()"
   ]
  },
  {
   "cell_type": "code",
   "execution_count": 403,
   "id": "4444d606",
   "metadata": {},
   "outputs": [],
   "source": [
    "driver.switch_to.default_content()"
   ]
  },
  {
   "cell_type": "code",
   "execution_count": 405,
   "id": "5b366ae1",
   "metadata": {},
   "outputs": [],
   "source": [
    "driver.switch_to.frame(\"searchIframe\")"
   ]
  },
  {
   "cell_type": "code",
   "execution_count": 369,
   "id": "62e91ef6",
   "metadata": {},
   "outputs": [],
   "source": [
    "riders[2].click()"
   ]
  },
  {
   "cell_type": "code",
   "execution_count": 406,
   "id": "893d7f3b",
   "metadata": {},
   "outputs": [
    {
     "data": {
      "text/plain": [
       "[]"
      ]
     },
     "execution_count": 406,
     "metadata": {},
     "output_type": "execute_result"
    }
   ],
   "source": [
    "html = driver.page_source\n",
    "soup = BS(html, 'html.parser')\n",
    "soup.find_all('span', class_='dry01')"
   ]
  },
  {
   "cell_type": "code",
   "execution_count": 359,
   "id": "98b04380",
   "metadata": {},
   "outputs": [],
   "source": [
    "driver.execute_script(\"arguments[0].click()\", riders[0])"
   ]
  },
  {
   "cell_type": "code",
   "execution_count": 267,
   "id": "273452eb",
   "metadata": {},
   "outputs": [
    {
     "name": "stdout",
     "output_type": "stream",
     "text": [
      "282 0 //*[@id=\"info.search.page.no2\"]\n",
      "282 15 //*[@id=\"info.search.page.no3\"]\n",
      "282 30 //*[@id=\"info.search.page.no4\"]\n",
      "282 45 //*[@id=\"info.search.page.no5\"]\n",
      "282 60 //*[@id=\"info.search.page.next\"]\n",
      "282 75 //*[@id=\"info.search.page.no2\"]\n",
      "282 90 //*[@id=\"info.search.page.no3\"]\n",
      "282 105 //*[@id=\"info.search.page.no4\"]\n",
      "282 120 //*[@id=\"info.search.page.no5\"]\n",
      "282 135 //*[@id=\"info.search.page.next\"]\n",
      "282 150 //*[@id=\"info.search.page.no2\"]\n",
      "282 165 //*[@id=\"info.search.page.no3\"]\n",
      "282 180 //*[@id=\"info.search.page.no4\"]\n",
      "282 195 //*[@id=\"info.search.page.no5\"]\n",
      "282 210 //*[@id=\"info.search.page.next\"]\n",
      "282 225 //*[@id=\"info.search.page.no2\"]\n",
      "282 240 //*[@id=\"info.search.page.no3\"]\n",
      "282 255 //*[@id=\"info.search.page.no4\"]\n",
      "282 270 //*[@id=\"info.search.page.no5\"]\n",
      "88 0 //*[@id=\"info.search.page.no2\"]\n",
      "88 15 //*[@id=\"info.search.page.no3\"]\n",
      "88 30 //*[@id=\"info.search.page.no4\"]\n",
      "88 45 //*[@id=\"info.search.page.no5\"]\n",
      "88 60 //*[@id=\"info.search.page.next\"]\n",
      "88 75 //*[@id=\"info.search.page.no2\"]\n",
      "92 0 //*[@id=\"info.search.page.no2\"]\n",
      "92 15 //*[@id=\"info.search.page.no3\"]\n",
      "92 30 //*[@id=\"info.search.page.no4\"]\n",
      "92 45 //*[@id=\"info.search.page.no5\"]\n",
      "92 60 //*[@id=\"info.search.page.next\"]\n",
      "92 75 //*[@id=\"info.search.page.no2\"]\n",
      "92 90 //*[@id=\"info.search.page.no3\"]\n",
      "91 0 //*[@id=\"info.search.page.no2\"]\n",
      "91 15 //*[@id=\"info.search.page.no3\"]\n",
      "91 30 //*[@id=\"info.search.page.no4\"]\n",
      "91 45 //*[@id=\"info.search.page.no5\"]\n",
      "91 60 //*[@id=\"info.search.page.next\"]\n",
      "91 75 //*[@id=\"info.search.page.no2\"]\n",
      "91 90 //*[@id=\"info.search.page.no3\"]\n",
      "57 0 //*[@id=\"info.search.page.no2\"]\n",
      "57 15 //*[@id=\"info.search.page.no3\"]\n",
      "57 30 //*[@id=\"info.search.page.no4\"]\n",
      "57 45 //*[@id=\"info.search.page.no5\"]\n",
      "62 0 //*[@id=\"info.search.page.no2\"]\n",
      "62 15 //*[@id=\"info.search.page.no3\"]\n",
      "62 30 //*[@id=\"info.search.page.no4\"]\n",
      "62 45 //*[@id=\"info.search.page.no5\"]\n",
      "62 60 //*[@id=\"info.search.page.next\"]\n",
      "36 0 //*[@id=\"info.search.page.no2\"]\n",
      "36 15 //*[@id=\"info.search.page.no3\"]\n",
      "36 30 //*[@id=\"info.search.page.no4\"]\n",
      "36 0 //*[@id=\"info.search.page.no2\"]\n",
      "36 15 //*[@id=\"info.search.page.no3\"]\n",
      "36 30 //*[@id=\"info.search.page.no4\"]\n",
      "343 0 //*[@id=\"info.search.page.no2\"]\n",
      "343 15 //*[@id=\"info.search.page.no3\"]\n",
      "343 30 //*[@id=\"info.search.page.no4\"]\n",
      "343 45 //*[@id=\"info.search.page.no5\"]\n",
      "343 60 //*[@id=\"info.search.page.next\"]\n",
      "343 75 //*[@id=\"info.search.page.no2\"]\n",
      "343 90 //*[@id=\"info.search.page.no3\"]\n",
      "343 105 //*[@id=\"info.search.page.no4\"]\n",
      "343 120 //*[@id=\"info.search.page.no5\"]\n",
      "343 135 //*[@id=\"info.search.page.next\"]\n",
      "343 150 //*[@id=\"info.search.page.no2\"]\n",
      "343 165 //*[@id=\"info.search.page.no3\"]\n",
      "343 180 //*[@id=\"info.search.page.no4\"]\n",
      "343 195 //*[@id=\"info.search.page.no5\"]\n",
      "343 210 //*[@id=\"info.search.page.next\"]\n",
      "343 225 //*[@id=\"info.search.page.no2\"]\n",
      "343 240 //*[@id=\"info.search.page.no3\"]\n",
      "343 255 //*[@id=\"info.search.page.no4\"]\n",
      "343 270 //*[@id=\"info.search.page.no5\"]\n",
      "343 285 //*[@id=\"info.search.page.next\"]\n",
      "343 300 //*[@id=\"info.search.page.no2\"]\n",
      "343 315 //*[@id=\"info.search.page.no3\"]\n",
      "343 330 //*[@id=\"info.search.page.no4\"]\n",
      "13 0 //*[@id=\"info.search.page.no2\"]\n",
      "41 0 //*[@id=\"info.search.page.no2\"]\n",
      "41 15 //*[@id=\"info.search.page.no3\"]\n",
      "41 30 //*[@id=\"info.search.page.no4\"]\n",
      "63 0 //*[@id=\"info.search.page.no2\"]\n",
      "63 15 //*[@id=\"info.search.page.no3\"]\n",
      "63 30 //*[@id=\"info.search.page.no4\"]\n",
      "63 45 //*[@id=\"info.search.page.no5\"]\n",
      "63 60 //*[@id=\"info.search.page.next\"]\n",
      "51 0 //*[@id=\"info.search.page.no2\"]\n",
      "51 15 //*[@id=\"info.search.page.no3\"]\n",
      "51 30 //*[@id=\"info.search.page.no4\"]\n",
      "51 45 //*[@id=\"info.search.page.no5\"]\n",
      "26 0 //*[@id=\"info.search.page.no2\"]\n",
      "26 15 //*[@id=\"info.search.page.no3\"]\n",
      "31 0 //*[@id=\"info.search.page.no2\"]\n",
      "31 15 //*[@id=\"info.search.page.no3\"]\n",
      "31 30 //*[@id=\"info.search.page.no4\"]\n",
      "79 0 //*[@id=\"info.search.page.no2\"]\n",
      "79 15 //*[@id=\"info.search.page.no3\"]\n",
      "79 30 //*[@id=\"info.search.page.no4\"]\n",
      "79 45 //*[@id=\"info.search.page.no5\"]\n",
      "79 60 //*[@id=\"info.search.page.next\"]\n",
      "79 75 //*[@id=\"info.search.page.no2\"]\n",
      "16 0 //*[@id=\"info.search.page.no2\"]\n",
      "16 15 //*[@id=\"info.search.page.no3\"]\n"
     ]
    }
   ],
   "source": [
    "for region in ['서울특별시', '부산광역시', '대구광역시', '인천광역시', '광주광역시', '대전광역시', '울산광역시', '세종특별자치시', '경기도', '강원도', '충청북도', '충청남도', '전라북도', '전라남도', '경상북도', '경상남도', '제주도']:\n",
    "    search.clear()\n",
    "    search.send_keys(f\"{region} 배달대행\")\n",
    "    WDW(driver, 60).until(EC.presence_of_element_located((By.XPATH, '//*[@id=\"search.keyword.submit\"]')))\n",
    "    driver.find_element(By.XPATH, '//*[@id=\"search.keyword.submit\"]').send_keys(Keys.ENTER)\n",
    "\n",
    "    names = []\n",
    "    addresses = []\n",
    "    phones = []\n",
    "\n",
    "    \n",
    "    # 시작 페이지 세팅\n",
    "    next_page = driver.find_element(By.XPATH, '//*[@id=\"info.search.place.more\"]')\n",
    "    driver.execute_script(\"arguments[0].click()\", next_page)\n",
    "    sleep(0.5)\n",
    "    next_page = driver.find_element(By.XPATH, '//*[@id=\"info.search.page.no1\"]')\n",
    "    driver.execute_script(\"arguments[0].click()\", next_page)\n",
    "    \n",
    "    \n",
    "    html = driver.page_source\n",
    "    soup = BS(html, 'html.parser')\n",
    "    cnt = int(max([cnt.get_text() for cnt in soup.find_all('em', class_='cnt')])) # 해당 지역의 업체 수\n",
    "    \n",
    "    flag = True\n",
    "    \n",
    "    while flag:\n",
    "        for page_num in pages:\n",
    "            print(cnt, len(names), page_num)\n",
    "            # 데이터 크롤링\n",
    "            html = driver.page_source\n",
    "            soup = BS(html, 'html.parser')\n",
    "            names.extend([name.get_text() for name in soup.find_all('a', class_='link_name')])\n",
    "            addresses.extend([address.get_text().replace('\\n', '') for address in soup.find_all('div', class_=\"addr\")])\n",
    "            phones.extend([phone.get_text() for phone in soup.find_all('span', class_='phone')])\n",
    "\n",
    "            \n",
    "            next_page = driver.find_element(By.XPATH, page_num)\n",
    "            # 다음 페이지로 이동\n",
    "            if len(names) >= cnt:\n",
    "                all_names.extend(names)\n",
    "                all_addresses.extend(addresses)\n",
    "                all_phones.extend(phones)\n",
    "                flag = False\n",
    "                break\n",
    "            \n",
    "            driver.execute_script(\"arguments[0].click()\", next_page)\n"
   ]
  }
 ],
 "metadata": {
  "kernelspec": {
   "display_name": "Python 3 (ipykernel)",
   "language": "python",
   "name": "python3"
  },
  "language_info": {
   "codemirror_mode": {
    "name": "ipython",
    "version": 3
   },
   "file_extension": ".py",
   "mimetype": "text/x-python",
   "name": "python",
   "nbconvert_exporter": "python",
   "pygments_lexer": "ipython3",
   "version": "3.9.7"
  }
 },
 "nbformat": 4,
 "nbformat_minor": 5
}
